{
 "cells": [
  {
   "cell_type": "markdown",
   "metadata": {},
   "source": [
    "### 경량 클래스"
   ]
  },
  {
   "cell_type": "code",
   "execution_count": 1,
   "metadata": {},
   "outputs": [],
   "source": [
    "def func(self):\n",
    "    return 'method called'\n",
    "\n",
    "MyClass = type('MyClass', (object,), {'func': func})\n"
   ]
  },
  {
   "cell_type": "code",
   "execution_count": 16,
   "metadata": {},
   "outputs": [],
   "source": [
    "def lightweight_class(self) :\n",
    "    return \"경량 클래스\"\n",
    "\n",
    "LightClass = type(\"LightClass\", (object,), {\"printing\" : lightweight_class})"
   ]
  },
  {
   "cell_type": "code",
   "execution_count": 76,
   "metadata": {},
   "outputs": [],
   "source": [
    "def get_stats(self, numbers) :\n",
    "    self.minimum = min(numbers) \n",
    "    self.maximum = max(numbers)\n",
    "    self.count = len(numbers)\n",
    "    self.average = sum(numbers) / self.count\n",
    "    \n",
    "    sorted_numbers = sorted(numbers) \n",
    "    middle = self.count // 2\n",
    "    if self.count % 2 == 0 :\n",
    "        lower = sorted_numbers[middle - 1]\n",
    "        upper = sorted_numbers[middle]\n",
    "        self.median = (lower + upper) / 2\n",
    "    else :\n",
    "        self.median = sorted_numbers[middle]\n",
    "        \n",
    "    return self.minimum, self.maximum, self.average, self.median, self.count\n",
    "\n",
    "GetStats = type(\"stats\", (object,), {\"func\" : get_stats})"
   ]
  },
  {
   "cell_type": "code",
   "execution_count": 78,
   "metadata": {},
   "outputs": [],
   "source": [
    "stats = GetStats()"
   ]
  },
  {
   "cell_type": "code",
   "execution_count": 74,
   "metadata": {},
   "outputs": [],
   "source": [
    "lengths = [63,73,72,\n",
    "           60,67,66,\n",
    "           71,61,72,\n",
    "           70]"
   ]
  },
  {
   "cell_type": "code",
   "execution_count": 86,
   "metadata": {},
   "outputs": [
    {
     "data": {
      "text/plain": [
       "(60, 73, 67.5, 68.5, 10)"
      ]
     },
     "execution_count": 86,
     "metadata": {},
     "output_type": "execute_result"
    }
   ],
   "source": [
    "stats.func(lengths)"
   ]
  },
  {
   "cell_type": "code",
   "execution_count": 17,
   "metadata": {},
   "outputs": [],
   "source": [
    "test = LightClass()"
   ]
  },
  {
   "cell_type": "code",
   "execution_count": 19,
   "metadata": {},
   "outputs": [
    {
     "data": {
      "text/plain": [
       "'경량 클래스'"
      ]
     },
     "execution_count": 19,
     "metadata": {},
     "output_type": "execute_result"
    }
   ],
   "source": [
    "test.printing()"
   ]
  },
  {
   "cell_type": "code",
   "execution_count": 12,
   "metadata": {},
   "outputs": [
    {
     "name": "stdout",
     "output_type": "stream",
     "text": [
      "method called\n"
     ]
    }
   ],
   "source": [
    "obj = MyClass()\n",
    "print(obj.func())  # 'method called'\n"
   ]
  },
  {
   "cell_type": "code",
   "execution_count": 87,
   "metadata": {},
   "outputs": [],
   "source": [
    "from collections import namedtuple"
   ]
  },
  {
   "cell_type": "code",
   "execution_count": 88,
   "metadata": {},
   "outputs": [],
   "source": [
    "def get_stats(numbers):\n",
    "    minimum = min(numbers) \n",
    "    maximum = max(numbers)\n",
    "    count = len(numbers)\n",
    "    average = sum(numbers) / count\n",
    "\n",
    "    sorted_numbers = sorted(numbers) \n",
    "    middle = count // 2\n",
    "    if count % 2 == 0 :\n",
    "        lower = sorted_numbers[middle - 1]\n",
    "        upper = sorted_numbers[middle]\n",
    "        median = (lower + upper) / 2\n",
    "    else :\n",
    "        median = sorted_numbers[middle]\n",
    "\n",
    "    Stats = namedtuple(\"Stats\", [\"minimum\", \"maximum\", \"count\", \"average\",\"median\"])\n",
    "\n",
    "    return Stats(minimum ,maximum, count, average, median)"
   ]
  },
  {
   "cell_type": "code",
   "execution_count": 91,
   "metadata": {},
   "outputs": [
    {
     "data": {
      "text/plain": [
       "Stats(minimum=60, maximum=73, count=10, average=67.5, median=68.5)"
      ]
     },
     "execution_count": 91,
     "metadata": {},
     "output_type": "execute_result"
    }
   ],
   "source": [
    "get_stats(lengths)"
   ]
  },
  {
   "cell_type": "code",
   "execution_count": 95,
   "metadata": {},
   "outputs": [
    {
     "data": {
      "text/plain": [
       "67.5"
      ]
     },
     "execution_count": 95,
     "metadata": {},
     "output_type": "execute_result"
    }
   ],
   "source": [
    "get_stats(lengths).average"
   ]
  },
  {
   "cell_type": "code",
   "execution_count": 120,
   "metadata": {},
   "outputs": [],
   "source": [
    "def careful_divide(a, b) :\n",
    "    try :\n",
    "        return a / b\n",
    "    except ZeroDivisionError :\n",
    "        return None"
   ]
  },
  {
   "cell_type": "code",
   "execution_count": 123,
   "metadata": {},
   "outputs": [
    {
     "name": "stdout",
     "output_type": "stream",
     "text": [
      "None\n",
      "잘못된 입력\n"
     ]
    }
   ],
   "source": [
    "x, y = 1, 0\n",
    "result  = careful_divide(x, y)\n",
    "print(result)\n",
    "if result is None :\n",
    "    print(\"잘못된 입력\")\n"
   ]
  },
  {
   "cell_type": "code",
   "execution_count": 125,
   "metadata": {},
   "outputs": [
    {
     "name": "stdout",
     "output_type": "stream",
     "text": [
      "잘못된 입력\n"
     ]
    },
    {
     "data": {
      "text/plain": [
       "0.0"
      ]
     },
     "execution_count": 125,
     "metadata": {},
     "output_type": "execute_result"
    }
   ],
   "source": [
    "x, y = 0,5 \n",
    "result = careful_divide(x, y)\n",
    "if not result :\n",
    "    print(\"잘못된 입력\")\n",
    "\n",
    "result"
   ]
  },
  {
   "cell_type": "code",
   "execution_count": 100,
   "metadata": {},
   "outputs": [
    {
     "name": "stdout",
     "output_type": "stream",
     "text": [
      "결과는 2.5 입니다.\n"
     ]
    }
   ],
   "source": [
    "x, y = 5, 2\n",
    "try : \n",
    "    result = careful_divide(x, y)\n",
    "except ValueError:\n",
    "    print(\"잘못된 입력\")\n",
    "else :\n",
    "    print(f\"결과는 {result:.1f} 입니다.\")"
   ]
  },
  {
   "cell_type": "code",
   "execution_count": null,
   "metadata": {},
   "outputs": [],
   "source": []
  },
  {
   "cell_type": "code",
   "execution_count": 101,
   "metadata": {},
   "outputs": [],
   "source": [
    "def careful_divide(a, b) :\n",
    "    try :\n",
    "        return True, a / b\n",
    "    except ZeroDivisionError :\n",
    "        return False, None\n",
    "        \n",
    "        "
   ]
  },
  {
   "cell_type": "code",
   "execution_count": 117,
   "metadata": {},
   "outputs": [],
   "source": [
    "x, y = 5, 0"
   ]
  },
  {
   "cell_type": "code",
   "execution_count": 118,
   "metadata": {},
   "outputs": [
    {
     "name": "stdout",
     "output_type": "stream",
     "text": [
      "잘못된 입력\n"
     ]
    }
   ],
   "source": [
    "success, result = careful_divide(x,y)\n",
    "\n",
    "if not success :\n",
    "    print(\"잘못된 입력\")"
   ]
  },
  {
   "cell_type": "code",
   "execution_count": 119,
   "metadata": {},
   "outputs": [],
   "source": [
    "result"
   ]
  },
  {
   "cell_type": "code",
   "execution_count": 128,
   "metadata": {},
   "outputs": [],
   "source": [
    "def careful_divide(a, b) :\n",
    "    try :\n",
    "        return a / b\n",
    "    except ZeroDivisionError :\n",
    "        raise ValueError(\"잘못된 입력\")\n"
   ]
  },
  {
   "cell_type": "code",
   "execution_count": null,
   "metadata": {},
   "outputs": [],
   "source": [
    "x, y = 5, 2\n",
    "try :\n",
    "    result = careful_divide(x, y)\n",
    "except ValueError :\n",
    "    print(\"잘못된 입력\")"
   ]
  },
  {
   "cell_type": "code",
   "execution_count": 141,
   "metadata": {},
   "outputs": [],
   "source": [
    "def careful_divide(a : str, b : str) -> float :\n",
    "    try :\n",
    "        print(type(a))\n",
    "        print(type(b))\n",
    "        return a / b\n",
    "    except ZeroDivisionError :\n",
    "        raise ValueError(\"잘못된 입력\")"
   ]
  },
  {
   "cell_type": "code",
   "execution_count": 142,
   "metadata": {},
   "outputs": [
    {
     "name": "stdout",
     "output_type": "stream",
     "text": [
      "<class 'int'>\n",
      "<class 'int'>\n",
      "2.5\n"
     ]
    }
   ],
   "source": [
    "x, y = 5, 2\n",
    "result = careful_divide(x, y)\n",
    "\n",
    "print(result)"
   ]
  },
  {
   "cell_type": "code",
   "execution_count": 140,
   "metadata": {},
   "outputs": [
    {
     "data": {
      "text/plain": [
       "'/Users/juhwan.lee/Desktop/python/python coding stack'"
      ]
     },
     "execution_count": 140,
     "metadata": {},
     "output_type": "execute_result"
    }
   ],
   "source": [
    "pwd"
   ]
  },
  {
   "cell_type": "code",
   "execution_count": null,
   "metadata": {},
   "outputs": [],
   "source": [
    "def _reorder_by_date(histories: List[Dict]) -> List[Dict]:\n",
    "    \"\"\" 각 DwHistory의 배열 Index를 날짜 단위의 Index로 재배치\n",
    "\n",
    "    Args:\n",
    "        histories (List[Dict]): DwHistory의 배열\n",
    "\n",
    "    Returns:\n",
    "        List[Dict]: 각 날짜별로 Index가 있고, 하위 Dict으로 각 날짜의 DwHistory 정의\n",
    "    \"\"\"\n",
    "    \n",
    "    # 1. Group by date\n",
    "    history_dict = defaultdict(list)\n",
    "    \n",
    "    # 2. Group By Date With Dict\n",
    "    [\n",
    "        history_dict[history['dw_date']].append(history) \n",
    "        for history in histories\n",
    "    ]\n",
    "    \n",
    "    histories_arr = list()\n",
    "    for key, value in history_dict.items():\n",
    "        histories_arr.append({\n",
    "            \"date\": key,\n",
    "            \"histories\": value,\n",
    "        })\n",
    "    return histories_arr"
   ]
  }
 ],
 "metadata": {
  "kernelspec": {
   "display_name": "Python 3.9.13 ('base')",
   "language": "python",
   "name": "python3"
  },
  "language_info": {
   "codemirror_mode": {
    "name": "ipython",
    "version": 3
   },
   "file_extension": ".py",
   "mimetype": "text/x-python",
   "name": "python",
   "nbconvert_exporter": "python",
   "pygments_lexer": "ipython3",
   "version": "3.9.13"
  },
  "orig_nbformat": 4,
  "vscode": {
   "interpreter": {
    "hash": "525dce99b1732a1b1dcfffc91c6d6e4abdce7417c57534eac01ce407f53619eb"
   }
  }
 },
 "nbformat": 4,
 "nbformat_minor": 2
}
