{
 "cells": [
  {
   "cell_type": "markdown",
   "metadata": {},
   "source": [
    "### Betterway 37. 내장 타입을 여러 단계로 내포시기보다는 클래스를 합성하라"
   ]
  },
  {
   "cell_type": "markdown",
   "metadata": {},
   "source": [
    "- 확장성을 고려 하지 않은 클래스의 생성으로 내부 에서 변경이 필요할 때 내부 코드가 깨질 확률이 크다. "
   ]
  },
  {
   "cell_type": "code",
   "execution_count": 8,
   "metadata": {},
   "outputs": [],
   "source": [
    "class SimpleGradeBook :\n",
    "    def __init__(self) :\n",
    "        self.grades = {}\n",
    "\n",
    "    def add_student(self, name) :\n",
    "        self.grades[name] = []\n",
    "    \n",
    "    def report_grade(self, name, score) :\n",
    "        self.grades[name].append(score)\n",
    "\n",
    "    def average_grade(self, name) :\n",
    "        grade = self.grades[name]\n",
    "        return sum(grade) / len(grade)\n"
   ]
  },
  {
   "cell_type": "code",
   "execution_count": 12,
   "metadata": {},
   "outputs": [
    {
     "name": "stdout",
     "output_type": "stream",
     "text": [
      "90.0\n",
      "{'이주환': [90, 95, 85]}\n"
     ]
    }
   ],
   "source": [
    "book = SimpleGradeBook()\n",
    "\n",
    "book.add_student(\"이주환\")\n",
    "book.report_grade(\"이주환\", 90)\n",
    "book.report_grade(\"이주환\", 95)\n",
    "book.report_grade(\"이주환\", 85)\n",
    "\n",
    "print(book.grades)\n",
    "print(book.average_grade(\"이주환\"))\n"
   ]
  },
  {
   "cell_type": "markdown",
   "metadata": {},
   "source": [
    "- 만약, 과목 별 성적을 리스트로 저장 하고 싶다고 할 때 내부 코드는 이렇게 변경 할 수 있다."
   ]
  },
  {
   "cell_type": "code",
   "execution_count": 44,
   "metadata": {},
   "outputs": [],
   "source": [
    "# defaultdict를 사용 한 값이 없는 딕셔너리에 대응 하는 방법 유지\n",
    "from collections import defaultdict\n",
    "\n",
    "class BySubjectGradeBook :\n",
    "    def __init__(self) :\n",
    "        self.grades = {}\n",
    "\n",
    "    def add_student(self, name) :\n",
    "        self.grades[name] = defaultdict(list)\n",
    "\n",
    "    def report_grade(self, name, subject, grade) :\n",
    "        by_subject = self.grades[name]\n",
    "        # print(f\"by_subject : {by_subject}\")\n",
    "        grade_list = by_subject[subject]\n",
    "        # print(f\"grade_list : {grade_list}\")\n",
    "        grade_list.append(grade)\n",
    "        # print(f\"grade_list after append : {grade_list}\")\n",
    "\n",
    "    def average_grade(self, name) :\n",
    "        by_subject = self.grades[name]\n",
    "        total, count = 0, 0\n",
    "        for val in by_subject.values() :\n",
    "            total += sum(val)\n",
    "            count += len(val)\n",
    "        print(by_subject)\n",
    "        return total / count\n"
   ]
  },
  {
   "cell_type": "markdown",
   "metadata": {},
   "source": [
    "- 아직 까지 코드의 복잡도는 관리할 수 있는 정도이다."
   ]
  },
  {
   "cell_type": "code",
   "execution_count": 45,
   "metadata": {},
   "outputs": [
    {
     "name": "stdout",
     "output_type": "stream",
     "text": [
      "defaultdict(<class 'list'>, {'수학': [75, 65], '체육': [90, 90]})\n",
      "평균 : 80.0\n"
     ]
    }
   ],
   "source": [
    "book = BySubjectGradeBook() \n",
    "\n",
    "book.add_student(\"이주환\")\n",
    "book.report_grade(\"이주환\", \"수학\", 75)\n",
    "book.report_grade(\"이주환\", \"수학\", 65)\n",
    "book.report_grade(\"이주환\", \"체육\", 90)\n",
    "book.report_grade(\"이주환\", \"체육\", 90)\n",
    "\n",
    "print(f\"평균 : {book.average_grade('이주환')}\")"
   ]
  },
  {
   "cell_type": "markdown",
   "metadata": {},
   "source": [
    "- 하지만, 이렇게 설계 된 코드에서 요구사항이 또 바뀌게 되어 내부 코드를 수정 해야한다.\n",
    "\n",
    "    - 과목의 점수에 가중치를 저장 하여 기말고사와 중간고사가 일반 쪽지시험 보다 성적에 더 영향이 미치게 코드를 변경 하는 것이다.\n",
    "\n",
    "    - 코드를 수정하니, report_grade는 튜플로 저장하는 방식만 변경 되었을 뿐 차이가 별로 없다. 하지만, 평균을 보여주는 메서드는 튜플을 언패킹 해야 하기 때문에 복잡하게 관리 되면서 가독성이 떨어진다.    "
   ]
  },
  {
   "cell_type": "code",
   "execution_count": 61,
   "metadata": {},
   "outputs": [],
   "source": [
    "class WeightedGradeBook :\n",
    "    def __init__(self) :\n",
    "        self.grades = {}\n",
    "\n",
    "    def add_student(self, name) :\n",
    "        self.grades[name] = defaultdict(list)\n",
    "\n",
    "    def report_grade(self, name, subject, score, weight) :\n",
    "        by_subject = self.grades[name]\n",
    "        grade_list = by_subject[subject]\n",
    "        grade_list.append((score, weight))\n",
    "\n",
    "    def average_grade(self, name) :\n",
    "        by_subject = self.grades[name]\n",
    "        score_sum, score_count = 0, 0 \n",
    "        \n",
    "        for subject, scores in by_subject.items() :\n",
    "            subject_avg, total_weight = 0, 0\n",
    "            print(f\"subject : {subject}\")\n",
    "            print(f\"score : {scores}\")\n",
    "            for score, weight in scores :\n",
    "                print(\"##### unpack for loop ######\")\n",
    "                print(f\"score : {score}\")\n",
    "                print(f\"weight : {weight}\")\n",
    "                subject_avg += score * weight\n",
    "                total_weight += weight\n",
    "                print(f\"과목 평균 : {subject_avg}\")\n",
    "                print(f\"총 가중치 : {total_weight}\")\n",
    "            \n",
    "            score_sum += subject_avg / total_weight\n",
    "            score_count += 1\n",
    "            print(f\"score_sum : {score_sum}\")\n",
    "            print(f\"score counting : {score_count}\")\n",
    "        return score_sum / score_count"
   ]
  },
  {
   "cell_type": "code",
   "execution_count": 62,
   "metadata": {},
   "outputs": [
    {
     "name": "stdout",
     "output_type": "stream",
     "text": [
      "subject : 수학\n",
      "score : [(75, 0.05), (65, 0.015), (70, 0.8)]\n",
      "##### unpack for loop ######\n",
      "score : 75\n",
      "weight : 0.05\n",
      "과목 평균 : 3.75\n",
      "총 가중치 : 0.05\n",
      "##### unpack for loop ######\n",
      "score : 65\n",
      "weight : 0.015\n",
      "과목 평균 : 4.725\n",
      "총 가중치 : 0.065\n",
      "##### unpack for loop ######\n",
      "score : 70\n",
      "weight : 0.8\n",
      "과목 평균 : 60.725\n",
      "총 가중치 : 0.865\n",
      "score_sum : 70.20231213872833\n",
      "score counting : 1\n",
      "subject : 체육\n",
      "score : [(100, 0.4), (85, 0.6)]\n",
      "##### unpack for loop ######\n",
      "score : 100\n",
      "weight : 0.4\n",
      "과목 평균 : 40.0\n",
      "총 가중치 : 0.4\n",
      "##### unpack for loop ######\n",
      "score : 85\n",
      "weight : 0.6\n",
      "과목 평균 : 91.0\n",
      "총 가중치 : 1.0\n",
      "score_sum : 161.20231213872833\n",
      "score counting : 2\n",
      " 평균 : 80.60%\n"
     ]
    }
   ],
   "source": [
    "book = WeightedGradeBook() \n",
    "\n",
    "book.add_student(\"이주환\")\n",
    "book.report_grade(\"이주환\", \"수학\", 75, 0.05)\n",
    "book.report_grade(\"이주환\", \"수학\", 65, 0.015)\n",
    "book.report_grade(\"이주환\", \"수학\", 70, 0.80)\n",
    "book.report_grade(\"이주환\", \"체육\", 100, 0.40)\n",
    "book.report_grade(\"이주환\", \"체육\", 85, 0.60)\n",
    "\n",
    "print(f\" 평균 : {book.average_grade('이주환'):.2f}%\")"
   ]
  },
  {
   "cell_type": "code",
   "execution_count": 65,
   "metadata": {},
   "outputs": [
    {
     "name": "stdout",
     "output_type": "stream",
     "text": [
      "89.5\n"
     ]
    }
   ],
   "source": [
    "grades = []\n",
    "grades.append((95, 0.45))\n",
    "grades.append((85, 0.55))\n",
    "\n",
    "total = sum(score * weight for score, weight in grades)\n",
    "total_weight = sum(weight for _, weight in grades)\n",
    "average_grade = total / total_weight\n",
    "\n",
    "print(average_grade)"
   ]
  },
  {
   "cell_type": "code",
   "execution_count": 66,
   "metadata": {},
   "outputs": [
    {
     "name": "stdout",
     "output_type": "stream",
     "text": [
      "89.5\n"
     ]
    }
   ],
   "source": [
    "grades = []\n",
    "grades.append((95, 0.45,\"참 잘했어요\"))\n",
    "grades.append((85, 0.55,\"조금만 더 열심히\"))\n",
    "\n",
    "total = sum(score * weight for score, weight,_ in grades)\n",
    "total_weight = sum(weight for _, weight,_ in grades)\n",
    "\n",
    "average_grade = total / total_weight\n",
    "\n",
    "print(average_grade)"
   ]
  },
  {
   "cell_type": "markdown",
   "metadata": {},
   "source": [
    "- nametuple을 이용 하여 인덱스에 의존 하는 코드를 작성 하지 않고, 정해진 이름을 호출 할 수 있다. \n",
    "\n",
    "    > namedtuple의 한계\n",
    "    1. 클래스에는 디폴트 인자 값을 지정할 수 없다. 그렇기 때문에 속성이 4 - 5 개 보다 더 많은 경우는 dataclasses 내장 모듈을 사용 하는 편이 낫다고 함\n",
    "    \n",
    "    2. namedtuple을 사용 하더라도 인스턴스의 어트리뷰트 값을 숫자 인덱스를 통해 접근 할 수 있다. 그렇기 때문에 namedtuple을 온전히 제어할 수 있는 상황이 아니라면 새로운 클래스를 정의 하는 편이 낫다고 안내하고 있음\n",
    "\n",
    "    "
   ]
  },
  {
   "cell_type": "code",
   "execution_count": 113,
   "metadata": {},
   "outputs": [],
   "source": [
    "from collections import namedtuple\n",
    "\n",
    "Grade = namedtuple(\"Grade\", (\"score\", \"weight\"))\n",
    "\n",
    "class Subject :\n",
    "    def __init__(self) :\n",
    "        self.grades = []\n",
    "\n",
    "    def report_grade(self, score, weight) :\n",
    "        self.grades.append(Grade(score, weight))\n",
    "\n",
    "    def average_grade(self) :\n",
    "        total, total_weight = 0, 0\n",
    "        for grade in self.grades :\n",
    "            # print(f\"score : {grade.score}, weight : {grade.weight}\")\n",
    "            total += grade.score * grade.weight\n",
    "            total_weight += grade.weight\n",
    "        return total / total_weight\n",
    "\n",
    "class Student :\n",
    "    def __init__(self) :\n",
    "        self.subjects = defaultdict(Subject)\n",
    "        \n",
    "    def get_subject(self, name) :\n",
    "        return self.subjects[name]\n",
    "    \n",
    "    def average_grade(self) :\n",
    "        total, count = 0, 0\n",
    "        for subject in self.subjects.values() :\n",
    "            total += subject.average_grade()\n",
    "            count += 1\n",
    "        return total / count\n",
    "\n",
    "class GradeBook :\n",
    "    def __init__(self) :\n",
    "        self.students = defaultdict(Student)\n",
    "        \n",
    "    def get_students(self, name) :\n",
    "        return self.students[name]\n"
   ]
  },
  {
   "cell_type": "code",
   "execution_count": 114,
   "metadata": {},
   "outputs": [
    {
     "name": "stdout",
     "output_type": "stream",
     "text": [
      "80.25\n"
     ]
    }
   ],
   "source": [
    "book = GradeBook()\n",
    "\n",
    "juhwan = book.get_students(\"이주환\")\n",
    "math = juhwan.get_subject(\"주환\")\n",
    "math.report_grade(75, 0.05)\n",
    "math.report_grade(65, 0.15)\n",
    "math.report_grade(70, 0.80)\n",
    "\n",
    "gym = juhwan.get_subject(\"체육\")\n",
    "gym.report_grade(100, 0.40)\n",
    "gym.report_grade(85, 0.60)\n",
    "\n",
    "print(juhwan.average_grade())"
   ]
  },
  {
   "cell_type": "code",
   "execution_count": null,
   "metadata": {},
   "outputs": [],
   "source": []
  }
 ],
 "metadata": {
  "kernelspec": {
   "display_name": "Python 3.9.13 ('base')",
   "language": "python",
   "name": "python3"
  },
  "language_info": {
   "codemirror_mode": {
    "name": "ipython",
    "version": 3
   },
   "file_extension": ".py",
   "mimetype": "text/x-python",
   "name": "python",
   "nbconvert_exporter": "python",
   "pygments_lexer": "ipython3",
   "version": "3.9.13"
  },
  "orig_nbformat": 4,
  "vscode": {
   "interpreter": {
    "hash": "525dce99b1732a1b1dcfffc91c6d6e4abdce7417c57534eac01ce407f53619eb"
   }
  }
 },
 "nbformat": 4,
 "nbformat_minor": 2
}
