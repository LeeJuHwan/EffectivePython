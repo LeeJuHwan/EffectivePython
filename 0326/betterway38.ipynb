{
 "cells": [
  {
   "cell_type": "markdown",
   "metadata": {},
   "source": [
    "### Betterway 38. 간단한 인터페이스의 경우 클래스 대신 함수를 받아라"
   ]
  },
  {
   "cell_type": "markdown",
   "metadata": {},
   "source": [
    "- Python 내장 모듈을 사용 하는 도중 사용자가 전달 한 함수를 실행 하는 경우, 이 함수를 훅(hook)이라고 부른다. 예시는 아래 코드와 같은 경우이다.\n",
    "    - 리스트를 원소의 길이를 기준으로 정렬 하고 싶다고 가정 하였을 때"
   ]
  },
  {
   "cell_type": "code",
   "execution_count": 2,
   "metadata": {},
   "outputs": [
    {
     "name": "stdout",
     "output_type": "stream",
     "text": [
      "before : ['소크라테스', '아르키메데스', '플라톤', '아리스토텔레스']\n",
      "after : ['플라톤', '소크라테스', '아르키메데스', '아리스토텔레스']\n"
     ]
    }
   ],
   "source": [
    "names = [\"소크라테스\", \"아르키메데스\",\n",
    "        \"플라톤\", \"아리스토텔레스\"]\n",
    "\n",
    "print(f\"before : {names}\")\n",
    "\n",
    "names.sort(key = len)\n",
    "\n",
    "print(f\"after : {names}\")"
   ]
  },
  {
   "cell_type": "markdown",
   "metadata": {},
   "source": [
    "존재 하지 않는 키에 접근 할 때 로그를 기록 하고, 디폴트 값으로 0을 반환 하여 없는 값을 트래킹 할 수 있는 코드를 작성 할 때"
   ]
  },
  {
   "cell_type": "code",
   "execution_count": 4,
   "metadata": {},
   "outputs": [],
   "source": [
    "def log_missing() :\n",
    "    print(\"키 추가됨\")\n",
    "    return 0"
   ]
  },
  {
   "cell_type": "code",
   "execution_count": 10,
   "metadata": {},
   "outputs": [
    {
     "name": "stdout",
     "output_type": "stream",
     "text": [
      "이전 : {'초록': 12, '파랑': 3}\n",
      "키 추가됨\n",
      "키 추가됨\n",
      "이후 : {'초록': 12, '파랑': 20, '빨강': 5, '주황': 9}\n"
     ]
    }
   ],
   "source": [
    "from collections import defaultdict\n",
    "\n",
    "current = {\"초록\" : 12, \"파랑\" : 3 }\n",
    "increments = [(\"빨강\", 5), (\"파랑\", 17), (\"주황\", 9)]\n",
    "result = defaultdict(log_missing, current)\n",
    "\n",
    "print(f\"이전 : {dict(result)}\")\n",
    "for key, amount in increments : \n",
    "    result[key] += amount\n",
    "print(f\"이후 : {dict(result)}\")"
   ]
  },
  {
   "cell_type": "markdown",
   "metadata": {},
   "source": [
    "딕셔너리에 없는 값에 대한 접근한 횟수를 카운트 하고 싶을 때 코드를 작성 해 보자.<br>\n",
    "이 코드를 작성 할 때 접근 할 수 있는 방법 중 하나는 클로저가 있는 함수를 이용 하여 훅으로 사용 하는 것이다."
   ]
  },
  {
   "cell_type": "code",
   "execution_count": 11,
   "metadata": {},
   "outputs": [],
   "source": [
    "def increment_with_report(current, increments) :\n",
    "    added_count = 0\n",
    "\n",
    "    def missing() :\n",
    "        nonlocal added_count\n",
    "        added_count += 1\n",
    "        return 0\n",
    "        \n",
    "    result = defaultdict(missing, current)\n",
    "    for key, amount in increments :\n",
    "        result[key] += amount\n",
    "    \n",
    "    return result, added_count"
   ]
  },
  {
   "cell_type": "code",
   "execution_count": 18,
   "metadata": {},
   "outputs": [],
   "source": [
    "result, count = increment_with_report(current, increments)\n",
    "assert count == 2"
   ]
  },
  {
   "cell_type": "code",
   "execution_count": 17,
   "metadata": {},
   "outputs": [
    {
     "name": "stdout",
     "output_type": "stream",
     "text": [
      "After local assignment: test spam\n",
      "After nonlocal assignment: nonlocal spam\n",
      "After global assignment: nonlocal spam\n",
      "In global scope: global spam\n"
     ]
    }
   ],
   "source": [
    "def scope_test():\n",
    "    def do_local():\n",
    "        spam = \"local spam\"\n",
    "\n",
    "    def do_nonlocal():\n",
    "        nonlocal spam\n",
    "        spam = \"nonlocal spam\"\n",
    "\n",
    "    def do_global():\n",
    "        global spam\n",
    "        spam = \"global spam\"\n",
    "\n",
    "    spam = \"test spam\"\n",
    "    do_local() \n",
    "    print(\"After local assignment:\", spam) # 지역에 또 다른 spam 함수 생성이라, scope_test에 선언 된 변수 호출\n",
    "    do_nonlocal()\n",
    "    print(\"After nonlocal assignment:\", spam) # 비지역 변수 이기 때문에 바깥 함수에 선언 된 test spam의 주소를 변경\n",
    "    do_global()\n",
    "    print(\"After global assignment:\", spam) # global, 함수 바깥에 있는 값을 찾고 없기 때문에 변경 된 non local에 의해 변경 된 spam 호출\n",
    "\n",
    "scope_test() \n",
    "print(\"In global scope:\", spam) # 모든 함수 내부에서 메모리에 할당 된 변수가 사라지기 때문에 글로벌 스팸을 호출하고, 스팸 내용 변경한 값을 호출"
   ]
  },
  {
   "cell_type": "markdown",
   "metadata": {},
   "source": [
    "- 다른 방법 중 클로저를 사용하는 방법이 아닌, 작은 클래스를 새롭게 정의 하는 것이다.\n"
   ]
  },
  {
   "cell_type": "code",
   "execution_count": 21,
   "metadata": {},
   "outputs": [],
   "source": [
    "class CountMissing :\n",
    "    def __init__(self) : \n",
    "        self.added = 0 \n",
    "    \n",
    "    def missing(self) :\n",
    "        self.added += 1 \n",
    "        return 0\n",
    "        "
   ]
  },
  {
   "cell_type": "code",
   "execution_count": 22,
   "metadata": {},
   "outputs": [],
   "source": [
    "counter = CountMissing()\n",
    "\n",
    "result = defaultdict(counter.missing, current)\n",
    "for key, amount in increments :\n",
    "    result[key] += amount\n",
    "\n",
    "assert counter.added == 2"
   ]
  },
  {
   "cell_type": "markdown",
   "metadata": {},
   "source": [
    "- 이 클래스는 위 와 같은 클로저 보다는 가독성이 좋은 코드이다.\n",
    "\n",
    "    - 하지만, 클래스 자체를 두고 보면 의미를 파악 하기 어렵다.\n",
    "    \n",
    "    - 이런 경우, 더 명확하게 표현 하기 위해서는 클래스에 `__call__` 특별 메서드를 정의 하면 사용 할 수 있다."
   ]
  },
  {
   "cell_type": "code",
   "execution_count": 26,
   "metadata": {},
   "outputs": [
    {
     "name": "stdout",
     "output_type": "stream",
     "text": [
      "0\n",
      "True\n"
     ]
    }
   ],
   "source": [
    "class BetterCountMissing :\n",
    "    def __init__(self) :\n",
    "        self.added = 0\n",
    "\n",
    "    def __call__(self) :\n",
    "        self.added += 1\n",
    "        return 0\n",
    "    \n",
    "counter = BetterCountMissing()\n",
    "assert counter() == 0\n",
    "assert callable(counter)\n",
    "\n",
    "print(counter())\n",
    "print(callable(counter))"
   ]
  },
  {
   "cell_type": "code",
   "execution_count": 28,
   "metadata": {},
   "outputs": [
    {
     "name": "stdout",
     "output_type": "stream",
     "text": [
      "2\n"
     ]
    }
   ],
   "source": [
    "counter = BetterCountMissing()\n",
    "result = defaultdict(counter, current)\n",
    "for key, amount in increments :\n",
    "    result[key] += amount\n",
    "assert counter.added == 2\n",
    "print(counter.added)"
   ]
  },
  {
   "cell_type": "code",
   "execution_count": null,
   "metadata": {},
   "outputs": [],
   "source": []
  }
 ],
 "metadata": {
  "kernelspec": {
   "display_name": "Python 3.9.13 ('base')",
   "language": "python",
   "name": "python3"
  },
  "language_info": {
   "codemirror_mode": {
    "name": "ipython",
    "version": 3
   },
   "file_extension": ".py",
   "mimetype": "text/x-python",
   "name": "python",
   "nbconvert_exporter": "python",
   "pygments_lexer": "ipython3",
   "version": "3.9.13"
  },
  "orig_nbformat": 4,
  "vscode": {
   "interpreter": {
    "hash": "525dce99b1732a1b1dcfffc91c6d6e4abdce7417c57534eac01ce407f53619eb"
   }
  }
 },
 "nbformat": 4,
 "nbformat_minor": 2
}
