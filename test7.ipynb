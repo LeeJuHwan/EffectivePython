{
 "cells": [
  {
   "cell_type": "markdown",
   "metadata": {},
   "source": [
    "### Better way 32. 긴 리스트 컴프리헨션보다는 제너레이터 식을 사용하라"
   ]
  },
  {
   "cell_type": "markdown",
   "metadata": {},
   "source": [
    "- 파일의 각 라인마다 읽어 글자 수를 반환 하는 컴프리헨션을 작성한다고 생각 해보자, \n",
    "만약 파일 라인이 수 없이 많고 다 읽기 어려운 분량의 파일이라면 컴프리헨션을 사용하는 데 문제가 있다. \n",
    "    - 그래서 입력 양이 적은 경우는 컴프리헨션을 사용 할 수 있지만, 방대한 양이라면 제너레이터 식을 이용하자.\n",
    "\n",
    "> List Comprehension"
   ]
  },
  {
   "cell_type": "code",
   "execution_count": 3,
   "metadata": {},
   "outputs": [],
   "source": [
    "value = [len(x) for x in open(\"my_file.txt\")]"
   ]
  },
  {
   "cell_type": "code",
   "execution_count": 4,
   "metadata": {},
   "outputs": [
    {
     "data": {
      "text/plain": [
       "[100, 57, 15, 1, 12, 75, 5, 86, 89, 10]"
      ]
     },
     "execution_count": 4,
     "metadata": {},
     "output_type": "execute_result"
    }
   ],
   "source": [
    "value"
   ]
  },
  {
   "cell_type": "markdown",
   "metadata": {},
   "source": [
    "> Generator식 \n",
    "- 제너레이터식을 사용하면, 시퀀스 값 전체가 나타나지 않고 원소를 하나씩 볼 수 있는 이터레이터가 생성 된다. \n",
    "    - 위 제너레이터를 출력하려면 next()를 이용하여, 전체를 호출 하지 않고 하나씩 출력 할 수 있다.\n",
    "<p></p>\n",
    "- 제너레이터의 강점은 제너레이터 식이 반환 한 이터레이터를 다른 제너레이터와 상호 작용을 할 수 있다."
   ]
  },
  {
   "cell_type": "code",
   "execution_count": 51,
   "metadata": {},
   "outputs": [],
   "source": [
    "gen_value = (len(x) for x in open(\"my_file.txt\"))"
   ]
  },
  {
   "cell_type": "code",
   "execution_count": 16,
   "metadata": {},
   "outputs": [
    {
     "name": "stdout",
     "output_type": "stream",
     "text": [
      "{86: 9.273618495495704}\n"
     ]
    }
   ],
   "source": [
    "# next(gen_value)\n",
    "roots = ({x : x**0.5}for x in gen_value)\n",
    "print(next(roots))"
   ]
  },
  {
   "cell_type": "markdown",
   "metadata": {},
   "source": [
    "### Better way 33. yield from을 사용 해 여러 제너레이터를 합성하라"
   ]
  },
  {
   "cell_type": "code",
   "execution_count": 38,
   "metadata": {},
   "outputs": [],
   "source": [
    "def move(period, speed) :\n",
    "    for _ in range(period) :\n",
    "        yield speed\n",
    "\n",
    "def pause(delay) :\n",
    "    for _ in range(delay) :\n",
    "        yield 0\n",
    "\n",
    "def animate() :\n",
    "    for delta in move(4, 5.0) :\n",
    "        yield delta\n",
    "    for delta in pause(3) :\n",
    "        yield delta\n",
    "    for delta in move(2, 3.0) :\n",
    "        yield delta\n",
    "\n",
    "def render(delta) :\n",
    "    print(f\"delta : {delta:.1f}\")\n",
    "\n",
    "def run(func) :\n",
    "    for delta in func() :\n",
    "        render(delta)"
   ]
  },
  {
   "cell_type": "code",
   "execution_count": 39,
   "metadata": {},
   "outputs": [
    {
     "name": "stdout",
     "output_type": "stream",
     "text": [
      "delta : 5.0\n",
      "delta : 5.0\n",
      "delta : 5.0\n",
      "delta : 5.0\n",
      "delta : 0.0\n",
      "delta : 0.0\n",
      "delta : 0.0\n",
      "delta : 3.0\n",
      "delta : 3.0\n"
     ]
    }
   ],
   "source": [
    "run(animate)"
   ]
  },
  {
   "cell_type": "code",
   "execution_count": 40,
   "metadata": {},
   "outputs": [],
   "source": [
    "def animate_composed() :\n",
    "    yield from move(4, 5.0)\n",
    "    yield from pause(3)\n",
    "    yield from move(2, 3.0)\n",
    "    "
   ]
  },
  {
   "cell_type": "code",
   "execution_count": 41,
   "metadata": {},
   "outputs": [
    {
     "name": "stdout",
     "output_type": "stream",
     "text": [
      "delta : 5.0\n",
      "delta : 5.0\n",
      "delta : 5.0\n",
      "delta : 5.0\n",
      "delta : 0.0\n",
      "delta : 0.0\n",
      "delta : 0.0\n",
      "delta : 3.0\n",
      "delta : 3.0\n"
     ]
    }
   ],
   "source": [
    "run(animate_composed)"
   ]
  },
  {
   "cell_type": "code",
   "execution_count": null,
   "metadata": {},
   "outputs": [],
   "source": [
    "def read_line() :\n",
    "    yield from gen_value\n",
    "\n",
    "print_line = read_line()\n",
    "next(print_line)"
   ]
  },
  {
   "cell_type": "code",
   "execution_count": 64,
   "metadata": {},
   "outputs": [
    {
     "name": "stdout",
     "output_type": "stream",
     "text": [
      "수동 내포 : 5.88s\n",
      "합성 사용 : 4.89s\n",
      "16.9% 시간이 적게 듦\n"
     ]
    }
   ],
   "source": [
    "import timeit\n",
    "\n",
    "def child() :\n",
    "    for i in range(1_000_000) :\n",
    "        yield i\n",
    "\n",
    "def slow() :\n",
    "    for i in child() :\n",
    "        yield i\n",
    "\n",
    "def fast() :\n",
    "    yield from child()\n",
    "\n",
    "baseline = timeit.timeit(\n",
    "    stmt = \"for _ in slow(): pass\",\n",
    "    globals = globals(),\n",
    "    number = 50)\n",
    "\n",
    "print(f\"수동 내포 : {baseline:.2f}s\")        \n",
    "comparison = timeit.timeit(\n",
    "    stmt = \"for _ in fast() : pass\",\n",
    "    globals = globals(),\n",
    "    number = 50\n",
    ")\n",
    "print(f\"합성 사용 : {comparison:.2f}s\")\n",
    "\n",
    "reduction = -(comparison - baseline) / baseline\n",
    "print(f\"{reduction:.1%} 시간이 적게 듦\")"
   ]
  },
  {
   "cell_type": "code",
   "execution_count": null,
   "metadata": {},
   "outputs": [],
   "source": []
  }
 ],
 "metadata": {
  "kernelspec": {
   "display_name": "Python 3.9.13 ('base')",
   "language": "python",
   "name": "python3"
  },
  "language_info": {
   "codemirror_mode": {
    "name": "ipython",
    "version": 3
   },
   "file_extension": ".py",
   "mimetype": "text/x-python",
   "name": "python",
   "nbconvert_exporter": "python",
   "pygments_lexer": "ipython3",
   "version": "3.9.13"
  },
  "orig_nbformat": 4,
  "vscode": {
   "interpreter": {
    "hash": "525dce99b1732a1b1dcfffc91c6d6e4abdce7417c57534eac01ce407f53619eb"
   }
  }
 },
 "nbformat": 4,
 "nbformat_minor": 2
}
